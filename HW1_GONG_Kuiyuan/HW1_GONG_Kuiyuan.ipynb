{
 "cells": [
  {
   "cell_type": "markdown",
   "id": "cc932ec4",
   "metadata": {},
   "source": [
    "# A. Individual Assignment"
   ]
  },
  {
   "cell_type": "markdown",
   "id": "b05a05f1",
   "metadata": {},
   "source": [
    "## 1.1 Download Data"
   ]
  },
  {
   "cell_type": "markdown",
   "id": "dfe2b75f",
   "metadata": {},
   "source": [
    "### 1.1.1 Downloading dataset 1"
   ]
  },
  {
   "cell_type": "code",
   "execution_count": 1,
   "id": "13237cd6",
   "metadata": {},
   "outputs": [
    {
     "name": "stdout",
     "output_type": "stream",
     "text": [
      "Defaulting to user installation because normal site-packages is not writeable\n",
      "Requirement already satisfied: seaborn in /Users/edisonkung/Library/Python/3.9/lib/python/site-packages (0.13.2)\n",
      "Requirement already satisfied: numpy!=1.24.0,>=1.20 in /Users/edisonkung/Library/Python/3.9/lib/python/site-packages (from seaborn) (2.0.2)\n",
      "Requirement already satisfied: pandas>=1.2 in /Users/edisonkung/Library/Python/3.9/lib/python/site-packages (from seaborn) (2.2.3)\n",
      "Requirement already satisfied: matplotlib!=3.6.1,>=3.4 in /Users/edisonkung/Library/Python/3.9/lib/python/site-packages (from seaborn) (3.9.4)\n",
      "Requirement already satisfied: contourpy>=1.0.1 in /Users/edisonkung/Library/Python/3.9/lib/python/site-packages (from matplotlib!=3.6.1,>=3.4->seaborn) (1.3.0)\n",
      "Requirement already satisfied: cycler>=0.10 in /Users/edisonkung/Library/Python/3.9/lib/python/site-packages (from matplotlib!=3.6.1,>=3.4->seaborn) (0.12.1)\n",
      "Requirement already satisfied: fonttools>=4.22.0 in /Users/edisonkung/Library/Python/3.9/lib/python/site-packages (from matplotlib!=3.6.1,>=3.4->seaborn) (4.57.0)\n",
      "Requirement already satisfied: kiwisolver>=1.3.1 in /Users/edisonkung/Library/Python/3.9/lib/python/site-packages (from matplotlib!=3.6.1,>=3.4->seaborn) (1.4.7)\n",
      "Requirement already satisfied: packaging>=20.0 in /Users/edisonkung/Library/Python/3.9/lib/python/site-packages (from matplotlib!=3.6.1,>=3.4->seaborn) (24.2)\n",
      "Requirement already satisfied: pillow>=8 in /Users/edisonkung/Library/Python/3.9/lib/python/site-packages (from matplotlib!=3.6.1,>=3.4->seaborn) (11.2.1)\n",
      "Requirement already satisfied: pyparsing>=2.3.1 in /Users/edisonkung/Library/Python/3.9/lib/python/site-packages (from matplotlib!=3.6.1,>=3.4->seaborn) (3.2.3)\n",
      "Requirement already satisfied: python-dateutil>=2.7 in /Users/edisonkung/Library/Python/3.9/lib/python/site-packages (from matplotlib!=3.6.1,>=3.4->seaborn) (2.9.0.post0)\n",
      "Requirement already satisfied: importlib-resources>=3.2.0 in /Users/edisonkung/Library/Python/3.9/lib/python/site-packages (from matplotlib!=3.6.1,>=3.4->seaborn) (6.5.2)\n",
      "Requirement already satisfied: pytz>=2020.1 in /Users/edisonkung/Library/Python/3.9/lib/python/site-packages (from pandas>=1.2->seaborn) (2025.2)\n",
      "Requirement already satisfied: tzdata>=2022.7 in /Users/edisonkung/Library/Python/3.9/lib/python/site-packages (from pandas>=1.2->seaborn) (2025.2)\n",
      "Requirement already satisfied: zipp>=3.1.0 in /Users/edisonkung/Library/Python/3.9/lib/python/site-packages (from importlib-resources>=3.2.0->matplotlib!=3.6.1,>=3.4->seaborn) (3.21.0)\n",
      "Requirement already satisfied: six>=1.5 in /Library/Developer/CommandLineTools/Library/Frameworks/Python3.framework/Versions/3.9/lib/python3.9/site-packages (from python-dateutil>=2.7->matplotlib!=3.6.1,>=3.4->seaborn) (1.15.0)\n",
      "Note: you may need to restart the kernel to use updated packages.\n"
     ]
    }
   ],
   "source": [
    "pip install seaborn"
   ]
  },
  {
   "cell_type": "code",
   "execution_count": 2,
   "id": "777ed971",
   "metadata": {},
   "outputs": [
    {
     "name": "stderr",
     "output_type": "stream",
     "text": [
      "/Users/edisonkung/Library/Python/3.9/lib/python/site-packages/urllib3/__init__.py:35: NotOpenSSLWarning: urllib3 v2 only supports OpenSSL 1.1.1+, currently the 'ssl' module is compiled with 'LibreSSL 2.8.3'. See: https://github.com/urllib3/urllib3/issues/3020\n",
      "  warnings.warn(\n"
     ]
    },
    {
     "data": {
      "text/plain": [
       "'/Users/edisonkung/Desktop/2025-S1S2-Data-Science/HW1_GONG_Kuiyuan'"
      ]
     },
     "execution_count": 2,
     "metadata": {},
     "output_type": "execute_result"
    }
   ],
   "source": [
    "import pandas as pd\n",
    "import io \n",
    "import requests\n",
    "import os\n",
    "import matplotlib.pyplot as plt\n",
    "import seaborn as sns\n",
    "import numpy as np\n",
    "os.getcwd()"
   ]
  },
  {
   "cell_type": "code",
   "execution_count": 3,
   "id": "a89b0b9f",
   "metadata": {},
   "outputs": [
    {
     "name": "stdout",
     "output_type": "stream",
     "text": [
      "Here is the link to access the data: https://sdmx.oecd.org/public/rest/data/OECD.TAD.ARP,DSD_AGR_POLIND@DF_POL,1.1/.A...?startPeriod=2014&dimensionAtObservation=AllDimensions&format=csv\n"
     ]
    }
   ],
   "source": [
    "url = 'https://sdmx.oecd.org/public/rest/data/OECD.TAD.ARP,DSD_AGR_POLIND@DF_POL,1.1/.A...?startPeriod=2014&dimensionAtObservation=AllDimensions&format=csv'\n",
    "print (f'Here is the link to access the data: {url}') "
   ]
  },
  {
   "cell_type": "code",
   "execution_count": 4,
   "id": "c6d3015f",
   "metadata": {},
   "outputs": [
    {
     "name": "stdout",
     "output_type": "stream",
     "text": [
      "Succeeded\n"
     ]
    }
   ],
   "source": [
    "response = requests.get(url)\n",
    "response.raise_for_status()\n",
    "if response.status_code == 200:\n",
    "    print(\"Succeeded\")\n",
    "else: \n",
    "    print(\"Failed\")"
   ]
  },
  {
   "cell_type": "code",
   "execution_count": 5,
   "id": "69219d8a",
   "metadata": {},
   "outputs": [
    {
     "data": {
      "text/html": [
       "<div>\n",
       "<style scoped>\n",
       "    .dataframe tbody tr th:only-of-type {\n",
       "        vertical-align: middle;\n",
       "    }\n",
       "\n",
       "    .dataframe tbody tr th {\n",
       "        vertical-align: top;\n",
       "    }\n",
       "\n",
       "    .dataframe thead th {\n",
       "        text-align: right;\n",
       "    }\n",
       "</style>\n",
       "<table border=\"1\" class=\"dataframe\">\n",
       "  <thead>\n",
       "    <tr style=\"text-align: right;\">\n",
       "      <th></th>\n",
       "      <th>DATAFLOW</th>\n",
       "      <th>REF_AREA</th>\n",
       "      <th>FREQ</th>\n",
       "      <th>MEASURE</th>\n",
       "      <th>COMMODITY</th>\n",
       "      <th>UNIT_MEASURE</th>\n",
       "      <th>TIME_PERIOD</th>\n",
       "      <th>OBS_VALUE</th>\n",
       "      <th>DECIMALS</th>\n",
       "      <th>OBS_STATUS</th>\n",
       "      <th>CURRENCY</th>\n",
       "      <th>UNIT_MULT</th>\n",
       "    </tr>\n",
       "  </thead>\n",
       "  <tbody>\n",
       "    <tr>\n",
       "      <th>0</th>\n",
       "      <td>OECD.TAD.ARP:DSD_AGR_POLIND@DF_POL(1.1)</td>\n",
       "      <td>OECD</td>\n",
       "      <td>A</td>\n",
       "      <td>BP_OPWLSH</td>\n",
       "      <td>CPC_EX_TO</td>\n",
       "      <td>PT_SUPP_E_PRDC</td>\n",
       "      <td>2023</td>\n",
       "      <td>28.5898</td>\n",
       "      <td>2</td>\n",
       "      <td>NaN</td>\n",
       "      <td>NaN</td>\n",
       "      <td>NaN</td>\n",
       "    </tr>\n",
       "    <tr>\n",
       "      <th>1</th>\n",
       "      <td>OECD.TAD.ARP:DSD_AGR_POLIND@DF_POL(1.1)</td>\n",
       "      <td>OECD</td>\n",
       "      <td>A</td>\n",
       "      <td>BP_OPWLSH</td>\n",
       "      <td>CPC_EX_TO</td>\n",
       "      <td>PT_SUPP_E_PRDC</td>\n",
       "      <td>2014</td>\n",
       "      <td>38.2870</td>\n",
       "      <td>2</td>\n",
       "      <td>NaN</td>\n",
       "      <td>NaN</td>\n",
       "      <td>NaN</td>\n",
       "    </tr>\n",
       "    <tr>\n",
       "      <th>2</th>\n",
       "      <td>OECD.TAD.ARP:DSD_AGR_POLIND@DF_POL(1.1)</td>\n",
       "      <td>OECD</td>\n",
       "      <td>A</td>\n",
       "      <td>BP_OPWLSH</td>\n",
       "      <td>CPC_EX_TO</td>\n",
       "      <td>PT_SUPP_E_PRDC</td>\n",
       "      <td>2015</td>\n",
       "      <td>36.9829</td>\n",
       "      <td>2</td>\n",
       "      <td>NaN</td>\n",
       "      <td>NaN</td>\n",
       "      <td>NaN</td>\n",
       "    </tr>\n",
       "    <tr>\n",
       "      <th>3</th>\n",
       "      <td>OECD.TAD.ARP:DSD_AGR_POLIND@DF_POL(1.1)</td>\n",
       "      <td>OECD</td>\n",
       "      <td>A</td>\n",
       "      <td>BP_OPWLSH</td>\n",
       "      <td>CPC_EX_TO</td>\n",
       "      <td>PT_SUPP_E_PRDC</td>\n",
       "      <td>2016</td>\n",
       "      <td>35.4675</td>\n",
       "      <td>2</td>\n",
       "      <td>NaN</td>\n",
       "      <td>NaN</td>\n",
       "      <td>NaN</td>\n",
       "    </tr>\n",
       "    <tr>\n",
       "      <th>4</th>\n",
       "      <td>OECD.TAD.ARP:DSD_AGR_POLIND@DF_POL(1.1)</td>\n",
       "      <td>OECD</td>\n",
       "      <td>A</td>\n",
       "      <td>BP_OPWLSH</td>\n",
       "      <td>CPC_EX_TO</td>\n",
       "      <td>PT_SUPP_E_PRDC</td>\n",
       "      <td>2017</td>\n",
       "      <td>32.6324</td>\n",
       "      <td>2</td>\n",
       "      <td>NaN</td>\n",
       "      <td>NaN</td>\n",
       "      <td>NaN</td>\n",
       "    </tr>\n",
       "  </tbody>\n",
       "</table>\n",
       "</div>"
      ],
      "text/plain": [
       "                                  DATAFLOW REF_AREA FREQ    MEASURE  \\\n",
       "0  OECD.TAD.ARP:DSD_AGR_POLIND@DF_POL(1.1)     OECD    A  BP_OPWLSH   \n",
       "1  OECD.TAD.ARP:DSD_AGR_POLIND@DF_POL(1.1)     OECD    A  BP_OPWLSH   \n",
       "2  OECD.TAD.ARP:DSD_AGR_POLIND@DF_POL(1.1)     OECD    A  BP_OPWLSH   \n",
       "3  OECD.TAD.ARP:DSD_AGR_POLIND@DF_POL(1.1)     OECD    A  BP_OPWLSH   \n",
       "4  OECD.TAD.ARP:DSD_AGR_POLIND@DF_POL(1.1)     OECD    A  BP_OPWLSH   \n",
       "\n",
       "   COMMODITY    UNIT_MEASURE  TIME_PERIOD  OBS_VALUE  DECIMALS OBS_STATUS  \\\n",
       "0  CPC_EX_TO  PT_SUPP_E_PRDC         2023    28.5898         2        NaN   \n",
       "1  CPC_EX_TO  PT_SUPP_E_PRDC         2014    38.2870         2        NaN   \n",
       "2  CPC_EX_TO  PT_SUPP_E_PRDC         2015    36.9829         2        NaN   \n",
       "3  CPC_EX_TO  PT_SUPP_E_PRDC         2016    35.4675         2        NaN   \n",
       "4  CPC_EX_TO  PT_SUPP_E_PRDC         2017    32.6324         2        NaN   \n",
       "\n",
       "   CURRENCY  UNIT_MULT  \n",
       "0       NaN        NaN  \n",
       "1       NaN        NaN  \n",
       "2       NaN        NaN  \n",
       "3       NaN        NaN  \n",
       "4       NaN        NaN  "
      ]
     },
     "execution_count": 5,
     "metadata": {},
     "output_type": "execute_result"
    }
   ],
   "source": [
    "data = io.StringIO(response.text)\n",
    "data_1 = pd.read_csv(data)\n",
    "data_1.to_csv('HW1_data/HW1_raw/OECD_PSE.csv', index=False)\n",
    "data_1.head(5)"
   ]
  },
  {
   "cell_type": "code",
   "execution_count": 6,
   "id": "970211a0",
   "metadata": {},
   "outputs": [
    {
     "data": {
      "text/plain": [
       "array(['OECD', 'EU', 'KAZ', 'CAN', 'COL', 'IND', 'KOR', 'ZAF', 'PHL',\n",
       "       'USA', 'NOR', 'MEX', 'ISL', 'AUS', 'ISR', 'ARG', 'UKR', 'GBR',\n",
       "       'CRI', 'JPN', 'VNM', 'IDN', 'CHE', 'NZL', 'BRA', 'CHN', 'CHL',\n",
       "       'RUS', 'TUR'], dtype=object)"
      ]
     },
     "execution_count": 6,
     "metadata": {},
     "output_type": "execute_result"
    }
   ],
   "source": [
    "data_1.REF_AREA.unique()"
   ]
  },
  {
   "cell_type": "markdown",
   "id": "057fd35a",
   "metadata": {},
   "source": [
    "### 1.1.2 Downloading dataset 2"
   ]
  },
  {
   "cell_type": "code",
   "execution_count": 7,
   "id": "aa7d87e6",
   "metadata": {},
   "outputs": [
    {
     "name": "stdout",
     "output_type": "stream",
     "text": [
      "Succeeded\n"
     ]
    }
   ],
   "source": [
    "url = 'https://sdmx.oecd.org/public/rest/data/OECD.TAD.ARP,DSD_AGR_POLIND@DF_COMGSSE,1.1/.A...?startPeriod=2014&dimensionAtObservation=AllDimensions&format=csv'\n",
    "\n",
    "response = requests.get(url)\n",
    "response.raise_for_status()\n",
    "if response.status_code == 200:\n",
    "    print(\"Succeeded\")\n",
    "else: \n",
    "    print(\"Failed\")"
   ]
  },
  {
   "cell_type": "code",
   "execution_count": 8,
   "id": "49430442",
   "metadata": {},
   "outputs": [
    {
     "data": {
      "text/html": [
       "<div>\n",
       "<style scoped>\n",
       "    .dataframe tbody tr th:only-of-type {\n",
       "        vertical-align: middle;\n",
       "    }\n",
       "\n",
       "    .dataframe tbody tr th {\n",
       "        vertical-align: top;\n",
       "    }\n",
       "\n",
       "    .dataframe thead th {\n",
       "        text-align: right;\n",
       "    }\n",
       "</style>\n",
       "<table border=\"1\" class=\"dataframe\">\n",
       "  <thead>\n",
       "    <tr style=\"text-align: right;\">\n",
       "      <th></th>\n",
       "      <th>DATAFLOW</th>\n",
       "      <th>REF_AREA</th>\n",
       "      <th>FREQ</th>\n",
       "      <th>MEASURE</th>\n",
       "      <th>COMMODITY</th>\n",
       "      <th>UNIT_MEASURE</th>\n",
       "      <th>TIME_PERIOD</th>\n",
       "      <th>OBS_VALUE</th>\n",
       "      <th>DECIMALS</th>\n",
       "      <th>OBS_STATUS</th>\n",
       "      <th>CURRENCY</th>\n",
       "      <th>UNIT_MULT</th>\n",
       "    </tr>\n",
       "  </thead>\n",
       "  <tbody>\n",
       "    <tr>\n",
       "      <th>0</th>\n",
       "      <td>OECD.TAD.ARP:DSD_AGR_POLIND@DF_COMGSSE(1.1)</td>\n",
       "      <td>ISR</td>\n",
       "      <td>A</td>\n",
       "      <td>GSSEIBSH</td>\n",
       "      <td>CPC_EX_TO</td>\n",
       "      <td>PT_SUPP_E_GN_SRV</td>\n",
       "      <td>2023</td>\n",
       "      <td>8.5213</td>\n",
       "      <td>2</td>\n",
       "      <td>NaN</td>\n",
       "      <td>NaN</td>\n",
       "      <td>NaN</td>\n",
       "    </tr>\n",
       "    <tr>\n",
       "      <th>1</th>\n",
       "      <td>OECD.TAD.ARP:DSD_AGR_POLIND@DF_COMGSSE(1.1)</td>\n",
       "      <td>ISR</td>\n",
       "      <td>A</td>\n",
       "      <td>GSSEIBSH</td>\n",
       "      <td>CPC_EX_TO</td>\n",
       "      <td>PT_SUPP_E_GN_SRV</td>\n",
       "      <td>2022</td>\n",
       "      <td>9.9586</td>\n",
       "      <td>2</td>\n",
       "      <td>NaN</td>\n",
       "      <td>NaN</td>\n",
       "      <td>NaN</td>\n",
       "    </tr>\n",
       "    <tr>\n",
       "      <th>2</th>\n",
       "      <td>OECD.TAD.ARP:DSD_AGR_POLIND@DF_COMGSSE(1.1)</td>\n",
       "      <td>ISR</td>\n",
       "      <td>A</td>\n",
       "      <td>GSSEIBSH</td>\n",
       "      <td>CPC_EX_TO</td>\n",
       "      <td>PT_SUPP_E_GN_SRV</td>\n",
       "      <td>2021</td>\n",
       "      <td>7.1212</td>\n",
       "      <td>2</td>\n",
       "      <td>NaN</td>\n",
       "      <td>NaN</td>\n",
       "      <td>NaN</td>\n",
       "    </tr>\n",
       "    <tr>\n",
       "      <th>3</th>\n",
       "      <td>OECD.TAD.ARP:DSD_AGR_POLIND@DF_COMGSSE(1.1)</td>\n",
       "      <td>ISR</td>\n",
       "      <td>A</td>\n",
       "      <td>GSSEIBSH</td>\n",
       "      <td>CPC_EX_TO</td>\n",
       "      <td>PT_SUPP_E_GN_SRV</td>\n",
       "      <td>2020</td>\n",
       "      <td>7.7754</td>\n",
       "      <td>2</td>\n",
       "      <td>NaN</td>\n",
       "      <td>NaN</td>\n",
       "      <td>NaN</td>\n",
       "    </tr>\n",
       "    <tr>\n",
       "      <th>4</th>\n",
       "      <td>OECD.TAD.ARP:DSD_AGR_POLIND@DF_COMGSSE(1.1)</td>\n",
       "      <td>ISR</td>\n",
       "      <td>A</td>\n",
       "      <td>GSSEIBSH</td>\n",
       "      <td>CPC_EX_TO</td>\n",
       "      <td>PT_SUPP_E_GN_SRV</td>\n",
       "      <td>2019</td>\n",
       "      <td>8.1080</td>\n",
       "      <td>2</td>\n",
       "      <td>NaN</td>\n",
       "      <td>NaN</td>\n",
       "      <td>NaN</td>\n",
       "    </tr>\n",
       "  </tbody>\n",
       "</table>\n",
       "</div>"
      ],
      "text/plain": [
       "                                      DATAFLOW REF_AREA FREQ   MEASURE  \\\n",
       "0  OECD.TAD.ARP:DSD_AGR_POLIND@DF_COMGSSE(1.1)      ISR    A  GSSEIBSH   \n",
       "1  OECD.TAD.ARP:DSD_AGR_POLIND@DF_COMGSSE(1.1)      ISR    A  GSSEIBSH   \n",
       "2  OECD.TAD.ARP:DSD_AGR_POLIND@DF_COMGSSE(1.1)      ISR    A  GSSEIBSH   \n",
       "3  OECD.TAD.ARP:DSD_AGR_POLIND@DF_COMGSSE(1.1)      ISR    A  GSSEIBSH   \n",
       "4  OECD.TAD.ARP:DSD_AGR_POLIND@DF_COMGSSE(1.1)      ISR    A  GSSEIBSH   \n",
       "\n",
       "   COMMODITY      UNIT_MEASURE  TIME_PERIOD  OBS_VALUE  DECIMALS OBS_STATUS  \\\n",
       "0  CPC_EX_TO  PT_SUPP_E_GN_SRV         2023     8.5213         2        NaN   \n",
       "1  CPC_EX_TO  PT_SUPP_E_GN_SRV         2022     9.9586         2        NaN   \n",
       "2  CPC_EX_TO  PT_SUPP_E_GN_SRV         2021     7.1212         2        NaN   \n",
       "3  CPC_EX_TO  PT_SUPP_E_GN_SRV         2020     7.7754         2        NaN   \n",
       "4  CPC_EX_TO  PT_SUPP_E_GN_SRV         2019     8.1080         2        NaN   \n",
       "\n",
       "   CURRENCY  UNIT_MULT  \n",
       "0       NaN        NaN  \n",
       "1       NaN        NaN  \n",
       "2       NaN        NaN  \n",
       "3       NaN        NaN  \n",
       "4       NaN        NaN  "
      ]
     },
     "execution_count": 8,
     "metadata": {},
     "output_type": "execute_result"
    }
   ],
   "source": [
    "data = io.StringIO(response.text)\n",
    "data_2 = pd.read_csv(data)\n",
    "data_2.to_csv('HW1_data/HW1_raw/OECD_GSSE.csv', index=False)\n",
    "data_2.head(5)"
   ]
  },
  {
   "cell_type": "code",
   "execution_count": 9,
   "id": "3795db59",
   "metadata": {},
   "outputs": [],
   "source": [
    "# Well, I tried the other way to download from the website, but it didn't work. I think the above one should be the right one because there are different formats for different datasets.\n",
    "\n",
    "# url_base = 'https://sdmx.oecd.org/public/rest/data/OECD.TAD.ARP,DSD_AGR_POLIND@DF_COMGSSE,1.1/.A...?startPeriod=2014&dimensionAtObservation=AllDimensions&format=csv'\n",
    "# def download_GSSE(Measure, Country, date_start, date_end):\n",
    "#     url_base = 'https://sdmx.oecd.org/public/rest/data/OECD.TAD.ARP,DSD_AGR_POLIND@DF_COMGSSE,1.1/.A...?startPeriod=2014&dimensionAtObservation=AllDimensions&format=csv'\n",
    "#     country_codes = '+'. join(Country)\n",
    "#     url = (\n",
    "#     f'https://sdmx.oecd.org/public/rest/data/'\n",
    "#     f'OECD.TAD.ARP,DSD_AGR_POLIND@DF_COMGSSE,1.1/.A..{Measure}.{country_codes}'\n",
    "#     f'?startPeriod={date_start}&endPeriod={date_end}&dimensionAtObservation=AllDimensions&format=csv'\n",
    "#     )  \n",
    "\n",
    "#     response = requests.get(url)\n",
    "#     data = io.StringIO(response.text)\n",
    "#     df = pd.read_csv(data)\n",
    "#     return df\n",
    "\n",
    "# print(url)"
   ]
  },
  {
   "cell_type": "code",
   "execution_count": 10,
   "id": "f2d11dec",
   "metadata": {},
   "outputs": [],
   "source": [
    "# data_2 = download_GSSE(\n",
    "#     Measure='GSSEIBSH',\n",
    "#     Country=[\"JPN\", \"KOR\", \"USA\", \"CAN\", \"AUS\", \"NZL\"],\n",
    "#     date_start='2014',\n",
    "#     date_end='2023'\n",
    "# )\n",
    "# data_2"
   ]
  },
  {
   "cell_type": "code",
   "execution_count": 11,
   "id": "1cc2029f",
   "metadata": {},
   "outputs": [
    {
     "data": {
      "text/plain": [
       "array(['ISR', 'NOR', 'GBR', 'EU', 'OECD', 'NZL', 'VNM', 'ISL', 'IND',\n",
       "       'CHL', 'RUS', 'CAN', 'MEX', 'JPN', 'CRI', 'AUS', 'ARG', 'CHE',\n",
       "       'IDN', 'ZAF', 'CHN', 'KAZ', 'COL', 'BRA', 'UKR', 'KOR', 'TUR',\n",
       "       'USA', 'PHL'], dtype=object)"
      ]
     },
     "execution_count": 11,
     "metadata": {},
     "output_type": "execute_result"
    }
   ],
   "source": [
    "data_2.REF_AREA.unique()\n"
   ]
  },
  {
   "cell_type": "markdown",
   "id": "65ad0400",
   "metadata": {},
   "source": [
    "## 1.2 Manipulate Data"
   ]
  },
  {
   "cell_type": "code",
   "execution_count": 12,
   "id": "facd3a09",
   "metadata": {},
   "outputs": [],
   "source": [
    "data_1 = data_1.rename(columns={\n",
    "    'REF_AREA': 'Country',\n",
    "    'TIME_PERIOD': 'Date',\n",
    "    'OBS_VALUE': 'PSE Value', \n",
    "})\n",
    "\n",
    "data_2 = data_2.rename(columns={\n",
    "    'REF_AREA': 'Country',\n",
    "    'TIME_PERIOD': 'Date',\n",
    "    'OBS_VALUE': 'GSSE Value',\n",
    "})"
   ]
  },
  {
   "cell_type": "code",
   "execution_count": 13,
   "id": "963fe1d4",
   "metadata": {},
   "outputs": [],
   "source": [
    "data_1 = data_1.query('Country in [\"JPN\", \"KOR\", \"USA\", \"CAN\", \"AUS\", \"NZL\"]')\n",
    "data_2 = data_2.query('Country in [\"JPN\", \"KOR\", \"USA\", \"CAN\", \"AUS\", \"NZL\"]')\n",
    "columns_1 = ['Country', 'Date', 'MEASURE' ,'PSE Value']\n",
    "columns_2 = ['Country', 'Date', 'MEASURE' ,'GSSE Value']\n",
    "data_1 = data_1[columns_1]\n",
    "data_2 = data_2[columns_2]"
   ]
  },
  {
   "cell_type": "code",
   "execution_count": 14,
   "id": "c00dd161",
   "metadata": {},
   "outputs": [],
   "source": [
    "columns_dictionary = {\n",
    "    'JPN': 'Japan',\n",
    "    'KOR': 'South Korea',\n",
    "    'USA': 'United States',\n",
    "    'CAN': 'Canada',\n",
    "    'AUS': 'Australia',\n",
    "    'NZL': 'New Zealand'\n",
    "}\n",
    "data_1['Country'] = data_1['Country'].replace(columns_dictionary)\n",
    "data_2['Country'] = data_2['Country'].replace(columns_dictionary)\n",
    "\n",
    "data_1.to_csv('HW1_data/HW1_intermediate/OECD_PSE_inter.csv', index=False)\n",
    "data_2.to_csv('HW1_data/HW1_intermediate/OECD_GSSE_inter.csv', index=False)"
   ]
  },
  {
   "cell_type": "code",
   "execution_count": 15,
   "id": "fbeebafd",
   "metadata": {},
   "outputs": [
    {
     "data": {
      "text/plain": [
       "<Axes: title={'center': 'OECD PSE Values (2014-2023)'}, xlabel='Year'>"
      ]
     },
     "execution_count": 15,
     "metadata": {},
     "output_type": "execute_result"
    },
    {
     "data": {
      "image/png": "[encoded data removed]",
      "text/plain": [
       "<Figure size 640x480 with 1 Axes>"
      ]
     },
     "metadata": {},
     "output_type": "display_data"
    }
   ],
   "source": [
    "data_1['Year'] = pd.to_datetime(data_1['Date'], format='%Y')\n",
    "data_2['Year'] = pd.to_datetime(data_2['Date'], format='%Y')\n",
    "data_usa = data_1.query('Country == \"United States\" and MEASURE == \"BPICSH\"')\n",
    "data_usa = data_usa.sort_values(by='Year')\n",
    "data_usa.set_index('Year')['2014-01-01':'2017-01-01'].plot(y='PSE Value', title='OECD PSE Values (2014-2023)')"
   ]
  },
  {
   "cell_type": "code",
   "execution_count": 16,
   "id": "bd0aa13b",
   "metadata": {},
   "outputs": [
    {
     "data": {
      "image/png": "[encoded data removed]",
      "text/plain": [
       "<Figure size 640x480 with 1 Axes>"
      ]
     },
     "metadata": {},
     "output_type": "display_data"
    }
   ],
   "source": [
    "data_usa_jpn = data_1.query('Country in [\"United States\" , \"Japan\"] and MEASURE == \"BPICSH\"')\n",
    "df_plot = data_usa_jpn.pivot(index='Year', columns='Country', values='PSE Value')\n",
    "\n",
    "df_plot['2014-01-01':].plot(title='OECD PSE Values (2014–2023)')\n",
    "\n",
    "plt.xlabel('Year')\n",
    "plt.ylabel('PSE Value')\n",
    "plt.legend(title='Country')\n",
    "plt.show()"
   ]
  },
  {
   "cell_type": "markdown",
   "id": "56846ea2",
   "metadata": {},
   "source": [
    "## 1.3 Merge Data"
   ]
  },
  {
   "cell_type": "code",
   "execution_count": 17,
   "id": "450daee7",
   "metadata": {},
   "outputs": [
    {
     "data": {
      "text/html": [
       "<div>\n",
       "<style scoped>\n",
       "    .dataframe tbody tr th:only-of-type {\n",
       "        vertical-align: middle;\n",
       "    }\n",
       "\n",
       "    .dataframe tbody tr th {\n",
       "        vertical-align: top;\n",
       "    }\n",
       "\n",
       "    .dataframe thead th {\n",
       "        text-align: right;\n",
       "    }\n",
       "</style>\n",
       "<table border=\"1\" class=\"dataframe\">\n",
       "  <thead>\n",
       "    <tr style=\"text-align: right;\">\n",
       "      <th></th>\n",
       "      <th>Country</th>\n",
       "      <th>Date</th>\n",
       "      <th>MEASURE_x</th>\n",
       "      <th>PSE Value</th>\n",
       "      <th>Year</th>\n",
       "      <th>MEASURE_y</th>\n",
       "      <th>GSSE Value</th>\n",
       "    </tr>\n",
       "  </thead>\n",
       "  <tbody>\n",
       "    <tr>\n",
       "      <th>0</th>\n",
       "      <td>Canada</td>\n",
       "      <td>2023</td>\n",
       "      <td>BPICSH</td>\n",
       "      <td>2.8452</td>\n",
       "      <td>2023-01-01</td>\n",
       "      <td>GSSEJDSH</td>\n",
       "      <td>0.0000</td>\n",
       "    </tr>\n",
       "    <tr>\n",
       "      <th>1</th>\n",
       "      <td>Canada</td>\n",
       "      <td>2023</td>\n",
       "      <td>BPICSH</td>\n",
       "      <td>2.8452</td>\n",
       "      <td>2023-01-01</td>\n",
       "      <td>GSSEJCSH</td>\n",
       "      <td>2.1532</td>\n",
       "    </tr>\n",
       "    <tr>\n",
       "      <th>2</th>\n",
       "      <td>Canada</td>\n",
       "      <td>2023</td>\n",
       "      <td>BPICSH</td>\n",
       "      <td>2.8452</td>\n",
       "      <td>2023-01-01</td>\n",
       "      <td>GSSEJBSH</td>\n",
       "      <td>8.8133</td>\n",
       "    </tr>\n",
       "    <tr>\n",
       "      <th>3</th>\n",
       "      <td>Canada</td>\n",
       "      <td>2023</td>\n",
       "      <td>BPICSH</td>\n",
       "      <td>2.8452</td>\n",
       "      <td>2023-01-01</td>\n",
       "      <td>GSSEHASH</td>\n",
       "      <td>22.3547</td>\n",
       "    </tr>\n",
       "    <tr>\n",
       "      <th>4</th>\n",
       "      <td>Canada</td>\n",
       "      <td>2023</td>\n",
       "      <td>BPICSH</td>\n",
       "      <td>2.8452</td>\n",
       "      <td>2023-01-01</td>\n",
       "      <td>GSSELSH</td>\n",
       "      <td>0.0000</td>\n",
       "    </tr>\n",
       "    <tr>\n",
       "      <th>...</th>\n",
       "      <td>...</td>\n",
       "      <td>...</td>\n",
       "      <td>...</td>\n",
       "      <td>...</td>\n",
       "      <td>...</td>\n",
       "      <td>...</td>\n",
       "      <td>...</td>\n",
       "    </tr>\n",
       "    <tr>\n",
       "      <th>2035</th>\n",
       "      <td>New Zealand</td>\n",
       "      <td>2019</td>\n",
       "      <td>BP_OPWLSH</td>\n",
       "      <td>0.0000</td>\n",
       "      <td>2019-01-01</td>\n",
       "      <td>GSSEICSH</td>\n",
       "      <td>1.2600</td>\n",
       "    </tr>\n",
       "    <tr>\n",
       "      <th>2036</th>\n",
       "      <td>New Zealand</td>\n",
       "      <td>2019</td>\n",
       "      <td>BP_OPWLSH</td>\n",
       "      <td>0.0000</td>\n",
       "      <td>2019-01-01</td>\n",
       "      <td>GSSEJDSH</td>\n",
       "      <td>0.0000</td>\n",
       "    </tr>\n",
       "    <tr>\n",
       "      <th>2037</th>\n",
       "      <td>New Zealand</td>\n",
       "      <td>2019</td>\n",
       "      <td>BP_OPWLSH</td>\n",
       "      <td>0.0000</td>\n",
       "      <td>2019-01-01</td>\n",
       "      <td>GSSEHASH</td>\n",
       "      <td>41.4149</td>\n",
       "    </tr>\n",
       "    <tr>\n",
       "      <th>2038</th>\n",
       "      <td>New Zealand</td>\n",
       "      <td>2019</td>\n",
       "      <td>BP_OPWLSH</td>\n",
       "      <td>0.0000</td>\n",
       "      <td>2019-01-01</td>\n",
       "      <td>GSSEKBSH</td>\n",
       "      <td>0.0000</td>\n",
       "    </tr>\n",
       "    <tr>\n",
       "      <th>2039</th>\n",
       "      <td>New Zealand</td>\n",
       "      <td>2019</td>\n",
       "      <td>BP_OPWLSH</td>\n",
       "      <td>0.0000</td>\n",
       "      <td>2019-01-01</td>\n",
       "      <td>GSSEISH</td>\n",
       "      <td>43.7136</td>\n",
       "    </tr>\n",
       "  </tbody>\n",
       "</table>\n",
       "<p>2040 rows × 7 columns</p>\n",
       "</div>"
      ],
      "text/plain": [
       "          Country  Date  MEASURE_x  PSE Value       Year MEASURE_y  GSSE Value\n",
       "0          Canada  2023     BPICSH     2.8452 2023-01-01  GSSEJDSH      0.0000\n",
       "1          Canada  2023     BPICSH     2.8452 2023-01-01  GSSEJCSH      2.1532\n",
       "2          Canada  2023     BPICSH     2.8452 2023-01-01  GSSEJBSH      8.8133\n",
       "3          Canada  2023     BPICSH     2.8452 2023-01-01  GSSEHASH     22.3547\n",
       "4          Canada  2023     BPICSH     2.8452 2023-01-01   GSSELSH      0.0000\n",
       "...           ...   ...        ...        ...        ...       ...         ...\n",
       "2035  New Zealand  2019  BP_OPWLSH     0.0000 2019-01-01  GSSEICSH      1.2600\n",
       "2036  New Zealand  2019  BP_OPWLSH     0.0000 2019-01-01  GSSEJDSH      0.0000\n",
       "2037  New Zealand  2019  BP_OPWLSH     0.0000 2019-01-01  GSSEHASH     41.4149\n",
       "2038  New Zealand  2019  BP_OPWLSH     0.0000 2019-01-01  GSSEKBSH      0.0000\n",
       "2039  New Zealand  2019  BP_OPWLSH     0.0000 2019-01-01   GSSEISH     43.7136\n",
       "\n",
       "[2040 rows x 7 columns]"
      ]
     },
     "execution_count": 17,
     "metadata": {},
     "output_type": "execute_result"
    }
   ],
   "source": [
    "df_merged = pd.merge(\n",
    "    data_1,\n",
    "    data_2,\n",
    "    on=['Country', 'Date', 'Year'],\n",
    "    how='inner',\n",
    ")\n",
    "df_merged"
   ]
  },
  {
   "cell_type": "code",
   "execution_count": 18,
   "id": "9ea0299f",
   "metadata": {},
   "outputs": [
    {
     "data": {
      "text/plain": [
       "array([2023, 2014, 2015, 2016, 2017, 2018, 2019, 2020, 2021, 2022])"
      ]
     },
     "execution_count": 18,
     "metadata": {},
     "output_type": "execute_result"
    }
   ],
   "source": [
    "df_merged = df_merged.rename(columns={\n",
    "    'MEASURE_x': 'MEASURE_PSE',\n",
    "    'MEASURE_y': 'MEASURE_GSSE',\n",
    "    'PSE Value_x': 'PSE Value',\n",
    "    'GSSE Value_y': 'GSSE Value',\n",
    "})\n",
    "df_merged = df_merged[['Country', 'Date', 'Year', 'MEASURE_PSE', 'PSE Value', 'MEASURE_GSSE', 'GSSE Value']]\n",
    "df_merged\n",
    "df_merged['Date'].unique()"
   ]
  },
  {
   "cell_type": "code",
   "execution_count": 19,
   "id": "e12915a2",
   "metadata": {},
   "outputs": [],
   "source": [
    "df_merged.to_csv('HW1_data/HW1_clean/OECD_PSE_GSSE.csv', index=False)"
   ]
  },
  {
   "cell_type": "markdown",
   "id": "ae5a0d83",
   "metadata": {},
   "source": [
    "## 2.1 Descriptive Statistics"
   ]
  },
  {
   "cell_type": "code",
   "execution_count": 20,
   "id": "5581c4fa",
   "metadata": {},
   "outputs": [
    {
     "data": {
      "text/plain": [
       "count    2040.000000\n",
       "mean       22.350458\n",
       "std        26.662148\n",
       "min         0.000000\n",
       "25%         1.603550\n",
       "50%         8.458300\n",
       "75%        40.144200\n",
       "max        83.046800\n",
       "Name: PSE Value, dtype: float64"
      ]
     },
     "execution_count": 20,
     "metadata": {},
     "output_type": "execute_result"
    }
   ],
   "source": [
    "df_merged['PSE Value'].describe()"
   ]
  },
  {
   "cell_type": "code",
   "execution_count": 21,
   "id": "9093f3a0",
   "metadata": {},
   "outputs": [
    {
     "data": {
      "text/plain": [
       "<Axes: >"
      ]
     },
     "execution_count": 21,
     "metadata": {},
     "output_type": "execute_result"
    },
    {
     "data": {
      "image/png": "[encoded data removed]",
      "text/plain": [
       "<Figure size 640x480 with 1 Axes>"
      ]
     },
     "metadata": {},
     "output_type": "display_data"
    }
   ],
   "source": [
    "df_merged['PSE Value'].describe().drop(['count'], axis=0).to_frame().plot(kind = 'bar')"
   ]
  },
  {
   "cell_type": "markdown",
   "id": "f23a8487",
   "metadata": {},
   "source": [
    "### 2.1.1 Group by Country"
   ]
  },
  {
   "cell_type": "code",
   "execution_count": 22,
   "id": "2a326ed9",
   "metadata": {},
   "outputs": [
    {
     "data": {
      "text/html": [
       "<div>\n",
       "<style scoped>\n",
       "    .dataframe tbody tr th:only-of-type {\n",
       "        vertical-align: middle;\n",
       "    }\n",
       "\n",
       "    .dataframe tbody tr th {\n",
       "        vertical-align: top;\n",
       "    }\n",
       "\n",
       "    .dataframe thead th {\n",
       "        text-align: right;\n",
       "    }\n",
       "</style>\n",
       "<table border=\"1\" class=\"dataframe\">\n",
       "  <thead>\n",
       "    <tr style=\"text-align: right;\">\n",
       "      <th></th>\n",
       "      <th>count</th>\n",
       "      <th>mean</th>\n",
       "      <th>std</th>\n",
       "      <th>min</th>\n",
       "      <th>25%</th>\n",
       "      <th>50%</th>\n",
       "      <th>75%</th>\n",
       "      <th>max</th>\n",
       "    </tr>\n",
       "    <tr>\n",
       "      <th>Country</th>\n",
       "      <th></th>\n",
       "      <th></th>\n",
       "      <th></th>\n",
       "      <th></th>\n",
       "      <th></th>\n",
       "      <th></th>\n",
       "      <th></th>\n",
       "      <th></th>\n",
       "    </tr>\n",
       "  </thead>\n",
       "  <tbody>\n",
       "    <tr>\n",
       "      <th>Australia</th>\n",
       "      <td>340.0</td>\n",
       "      <td>20.805725</td>\n",
       "      <td>13.364510</td>\n",
       "      <td>1.6376</td>\n",
       "      <td>4.692925</td>\n",
       "      <td>23.18245</td>\n",
       "      <td>30.047000</td>\n",
       "      <td>40.8426</td>\n",
       "    </tr>\n",
       "    <tr>\n",
       "      <th>Canada</th>\n",
       "      <td>340.0</td>\n",
       "      <td>33.885605</td>\n",
       "      <td>34.098939</td>\n",
       "      <td>0.0000</td>\n",
       "      <td>0.020500</td>\n",
       "      <td>26.94830</td>\n",
       "      <td>68.555400</td>\n",
       "      <td>79.0438</td>\n",
       "    </tr>\n",
       "    <tr>\n",
       "      <th>Japan</th>\n",
       "      <td>340.0</td>\n",
       "      <td>9.994450</td>\n",
       "      <td>7.757356</td>\n",
       "      <td>1.4709</td>\n",
       "      <td>2.989450</td>\n",
       "      <td>9.29415</td>\n",
       "      <td>15.334625</td>\n",
       "      <td>24.1491</td>\n",
       "    </tr>\n",
       "    <tr>\n",
       "      <th>New Zealand</th>\n",
       "      <td>340.0</td>\n",
       "      <td>0.000000</td>\n",
       "      <td>0.000000</td>\n",
       "      <td>0.0000</td>\n",
       "      <td>0.000000</td>\n",
       "      <td>0.00000</td>\n",
       "      <td>0.000000</td>\n",
       "      <td>0.0000</td>\n",
       "    </tr>\n",
       "    <tr>\n",
       "      <th>South Korea</th>\n",
       "      <td>340.0</td>\n",
       "      <td>6.100565</td>\n",
       "      <td>2.608649</td>\n",
       "      <td>3.3991</td>\n",
       "      <td>3.896975</td>\n",
       "      <td>4.44185</td>\n",
       "      <td>8.942200</td>\n",
       "      <td>10.6077</td>\n",
       "    </tr>\n",
       "  </tbody>\n",
       "</table>\n",
       "</div>"
      ],
      "text/plain": [
       "             count       mean        std     min       25%       50%  \\\n",
       "Country                                                                \n",
       "Australia    340.0  20.805725  13.364510  1.6376  4.692925  23.18245   \n",
       "Canada       340.0  33.885605  34.098939  0.0000  0.020500  26.94830   \n",
       "Japan        340.0   9.994450   7.757356  1.4709  2.989450   9.29415   \n",
       "New Zealand  340.0   0.000000   0.000000  0.0000  0.000000   0.00000   \n",
       "South Korea  340.0   6.100565   2.608649  3.3991  3.896975   4.44185   \n",
       "\n",
       "                   75%      max  \n",
       "Country                          \n",
       "Australia    30.047000  40.8426  \n",
       "Canada       68.555400  79.0438  \n",
       "Japan        15.334625  24.1491  \n",
       "New Zealand   0.000000   0.0000  \n",
       "South Korea   8.942200  10.6077  "
      ]
     },
     "execution_count": 22,
     "metadata": {},
     "output_type": "execute_result"
    }
   ],
   "source": [
    "df_merged_bycountry = df_merged.groupby('Country')['PSE Value'].describe()\n",
    "df_merged_bycountry.head(5)"
   ]
  },
  {
   "cell_type": "code",
   "execution_count": 23,
   "id": "ae27d59b",
   "metadata": {},
   "outputs": [
    {
     "data": {
      "text/plain": [
       "<Axes: title={'center': 'OECD PSE Values (2014–2023)'}, ylabel='Country'>"
      ]
     },
     "execution_count": 23,
     "metadata": {},
     "output_type": "execute_result"
    },
    {
     "data": {
      "image/png": "[encoded data removed]",
      "text/plain": [
       "<Figure size 640x480 with 1 Axes>"
      ]
     },
     "metadata": {},
     "output_type": "display_data"
    }
   ],
   "source": [
    "df_plot = df_merged_bycountry['mean'].head(5).sort_values(ascending=True)\n",
    "df_plot.plot(kind = 'barh', title='OECD PSE Values (2014–2023)') "
   ]
  },
  {
   "cell_type": "code",
   "execution_count": 24,
   "id": "6fdc8e12",
   "metadata": {},
   "outputs": [
    {
     "data": {
      "text/html": [
       "<div>\n",
       "<style scoped>\n",
       "    .dataframe tbody tr th:only-of-type {\n",
       "        vertical-align: middle;\n",
       "    }\n",
       "\n",
       "    .dataframe tbody tr th {\n",
       "        vertical-align: top;\n",
       "    }\n",
       "\n",
       "    .dataframe thead th {\n",
       "        text-align: right;\n",
       "    }\n",
       "</style>\n",
       "<table border=\"1\" class=\"dataframe\">\n",
       "  <thead>\n",
       "    <tr style=\"text-align: right;\">\n",
       "      <th></th>\n",
       "      <th>Country</th>\n",
       "      <th>Alpha-2 code</th>\n",
       "      <th>Alpha-3 code</th>\n",
       "      <th>Numeric</th>\n",
       "    </tr>\n",
       "  </thead>\n",
       "  <tbody>\n",
       "    <tr>\n",
       "      <th>0</th>\n",
       "      <td>Afghanistan</td>\n",
       "      <td>AF</td>\n",
       "      <td>AFG</td>\n",
       "      <td>4</td>\n",
       "    </tr>\n",
       "    <tr>\n",
       "      <th>1</th>\n",
       "      <td>Åland Islands</td>\n",
       "      <td>AX</td>\n",
       "      <td>ALA</td>\n",
       "      <td>248</td>\n",
       "    </tr>\n",
       "    <tr>\n",
       "      <th>2</th>\n",
       "      <td>Albania</td>\n",
       "      <td>AL</td>\n",
       "      <td>ALB</td>\n",
       "      <td>8</td>\n",
       "    </tr>\n",
       "    <tr>\n",
       "      <th>3</th>\n",
       "      <td>Algeria</td>\n",
       "      <td>DZ</td>\n",
       "      <td>DZA</td>\n",
       "      <td>12</td>\n",
       "    </tr>\n",
       "    <tr>\n",
       "      <th>4</th>\n",
       "      <td>American Samoa</td>\n",
       "      <td>AS</td>\n",
       "      <td>ASM</td>\n",
       "      <td>16</td>\n",
       "    </tr>\n",
       "  </tbody>\n",
       "</table>\n",
       "</div>"
      ],
      "text/plain": [
       "          Country Alpha-2 code Alpha-3 code  Numeric\n",
       "0     Afghanistan           AF          AFG        4\n",
       "1   Åland Islands           AX          ALA      248\n",
       "2         Albania           AL          ALB        8\n",
       "3         Algeria           DZ          DZA       12\n",
       "4  American Samoa           AS          ASM       16"
      ]
     },
     "execution_count": 24,
     "metadata": {},
     "output_type": "execute_result"
    }
   ],
   "source": [
    "country_code = pd.read_html('https://www.iban.com/country-codes')[0]\n",
    "country_code.head(5)"
   ]
  },
  {
   "cell_type": "code",
   "execution_count": 25,
   "id": "b7c14952",
   "metadata": {},
   "outputs": [],
   "source": [
    "country_map = dict(country_code[['Country', 'Alpha-3 code']].values)"
   ]
  },
  {
   "cell_type": "code",
   "execution_count": 26,
   "id": "861a0c14",
   "metadata": {},
   "outputs": [
    {
     "data": {
      "text/plain": [
       "Country\n",
       "NZL     0.0000\n",
       "JPN    24.1491\n",
       "AUS    40.8426\n",
       "CAN    79.0438\n",
       "Name: max, dtype: float64"
      ]
     },
     "execution_count": 26,
     "metadata": {},
     "output_type": "execute_result"
    }
   ],
   "source": [
    "df_plot = df_merged_bycountry['max'].rename(country_map, axis='index').sort_values()\n",
    "df_plot = df_plot[df_plot.index.isin(['JPN', 'CAN', 'AUS', 'NZL'])]\n",
    "df_plot"
   ]
  },
  {
   "cell_type": "code",
   "execution_count": 27,
   "id": "1bd8262e",
   "metadata": {},
   "outputs": [
    {
     "data": {
      "text/plain": [
       "<Axes: title={'center': 'OECD PSE Values (2014–2023) by Country Code'}, xlabel='Country'>"
      ]
     },
     "execution_count": 27,
     "metadata": {},
     "output_type": "execute_result"
    },
    {
     "data": {
      "image/png": "[encoded data removed]",
      "text/plain": [
       "<Figure size 640x480 with 1 Axes>"
      ]
     },
     "metadata": {},
     "output_type": "display_data"
    }
   ],
   "source": [
    "df_plot.plot(kind = 'bar', title='OECD PSE Values (2014–2023) by Country Code')"
   ]
  },
  {
   "cell_type": "markdown",
   "id": "de482c91",
   "metadata": {},
   "source": [
    "### 2.1.2 Group by Date"
   ]
  },
  {
   "cell_type": "code",
   "execution_count": 28,
   "id": "c207826e",
   "metadata": {},
   "outputs": [
    {
     "data": {
      "text/html": [
       "<div>\n",
       "<style scoped>\n",
       "    .dataframe tbody tr th:only-of-type {\n",
       "        vertical-align: middle;\n",
       "    }\n",
       "\n",
       "    .dataframe tbody tr th {\n",
       "        vertical-align: top;\n",
       "    }\n",
       "\n",
       "    .dataframe thead th {\n",
       "        text-align: right;\n",
       "    }\n",
       "</style>\n",
       "<table border=\"1\" class=\"dataframe\">\n",
       "  <thead>\n",
       "    <tr style=\"text-align: right;\">\n",
       "      <th></th>\n",
       "      <th>count</th>\n",
       "      <th>mean</th>\n",
       "      <th>std</th>\n",
       "      <th>min</th>\n",
       "      <th>25%</th>\n",
       "      <th>50%</th>\n",
       "      <th>75%</th>\n",
       "      <th>max</th>\n",
       "    </tr>\n",
       "    <tr>\n",
       "      <th>Date</th>\n",
       "      <th></th>\n",
       "      <th></th>\n",
       "      <th></th>\n",
       "      <th></th>\n",
       "      <th></th>\n",
       "      <th></th>\n",
       "      <th></th>\n",
       "      <th></th>\n",
       "    </tr>\n",
       "  </thead>\n",
       "  <tbody>\n",
       "    <tr>\n",
       "      <th>2014</th>\n",
       "      <td>204.0</td>\n",
       "      <td>24.043250</td>\n",
       "      <td>26.363494</td>\n",
       "      <td>0.0</td>\n",
       "      <td>2.480975</td>\n",
       "      <td>9.40685</td>\n",
       "      <td>46.290025</td>\n",
       "      <td>67.7741</td>\n",
       "    </tr>\n",
       "    <tr>\n",
       "      <th>2015</th>\n",
       "      <td>204.0</td>\n",
       "      <td>23.195417</td>\n",
       "      <td>26.136022</td>\n",
       "      <td>0.0</td>\n",
       "      <td>2.832925</td>\n",
       "      <td>10.72545</td>\n",
       "      <td>41.287250</td>\n",
       "      <td>74.4333</td>\n",
       "    </tr>\n",
       "    <tr>\n",
       "      <th>2016</th>\n",
       "      <td>204.0</td>\n",
       "      <td>23.004642</td>\n",
       "      <td>26.274013</td>\n",
       "      <td>0.0</td>\n",
       "      <td>2.545725</td>\n",
       "      <td>9.80550</td>\n",
       "      <td>42.950100</td>\n",
       "      <td>76.9375</td>\n",
       "    </tr>\n",
       "    <tr>\n",
       "      <th>2017</th>\n",
       "      <td>204.0</td>\n",
       "      <td>22.077258</td>\n",
       "      <td>25.807475</td>\n",
       "      <td>0.0</td>\n",
       "      <td>2.528400</td>\n",
       "      <td>9.27900</td>\n",
       "      <td>38.257050</td>\n",
       "      <td>79.0438</td>\n",
       "    </tr>\n",
       "    <tr>\n",
       "      <th>2018</th>\n",
       "      <td>204.0</td>\n",
       "      <td>22.750808</td>\n",
       "      <td>29.666815</td>\n",
       "      <td>0.0</td>\n",
       "      <td>1.166825</td>\n",
       "      <td>4.47760</td>\n",
       "      <td>37.221475</td>\n",
       "      <td>77.9484</td>\n",
       "    </tr>\n",
       "    <tr>\n",
       "      <th>2019</th>\n",
       "      <td>204.0</td>\n",
       "      <td>21.528575</td>\n",
       "      <td>28.880974</td>\n",
       "      <td>0.0</td>\n",
       "      <td>1.216975</td>\n",
       "      <td>3.96325</td>\n",
       "      <td>33.154850</td>\n",
       "      <td>78.7874</td>\n",
       "    </tr>\n",
       "    <tr>\n",
       "      <th>2020</th>\n",
       "      <td>204.0</td>\n",
       "      <td>23.698042</td>\n",
       "      <td>28.327578</td>\n",
       "      <td>0.0</td>\n",
       "      <td>1.117350</td>\n",
       "      <td>9.37820</td>\n",
       "      <td>40.287300</td>\n",
       "      <td>77.7539</td>\n",
       "    </tr>\n",
       "    <tr>\n",
       "      <th>2021</th>\n",
       "      <td>204.0</td>\n",
       "      <td>22.346525</td>\n",
       "      <td>27.827441</td>\n",
       "      <td>0.0</td>\n",
       "      <td>1.597375</td>\n",
       "      <td>7.88475</td>\n",
       "      <td>34.396600</td>\n",
       "      <td>83.0468</td>\n",
       "    </tr>\n",
       "    <tr>\n",
       "      <th>2022</th>\n",
       "      <td>204.0</td>\n",
       "      <td>20.807375</td>\n",
       "      <td>24.230354</td>\n",
       "      <td>0.0</td>\n",
       "      <td>2.021000</td>\n",
       "      <td>9.05875</td>\n",
       "      <td>30.056225</td>\n",
       "      <td>75.2440</td>\n",
       "    </tr>\n",
       "    <tr>\n",
       "      <th>2023</th>\n",
       "      <td>204.0</td>\n",
       "      <td>20.052692</td>\n",
       "      <td>22.652119</td>\n",
       "      <td>0.0</td>\n",
       "      <td>2.344575</td>\n",
       "      <td>10.41960</td>\n",
       "      <td>28.089675</td>\n",
       "      <td>70.5852</td>\n",
       "    </tr>\n",
       "  </tbody>\n",
       "</table>\n",
       "</div>"
      ],
      "text/plain": [
       "      count       mean        std  min       25%       50%        75%      max\n",
       "Date                                                                          \n",
       "2014  204.0  24.043250  26.363494  0.0  2.480975   9.40685  46.290025  67.7741\n",
       "2015  204.0  23.195417  26.136022  0.0  2.832925  10.72545  41.287250  74.4333\n",
       "2016  204.0  23.004642  26.274013  0.0  2.545725   9.80550  42.950100  76.9375\n",
       "2017  204.0  22.077258  25.807475  0.0  2.528400   9.27900  38.257050  79.0438\n",
       "2018  204.0  22.750808  29.666815  0.0  1.166825   4.47760  37.221475  77.9484\n",
       "2019  204.0  21.528575  28.880974  0.0  1.216975   3.96325  33.154850  78.7874\n",
       "2020  204.0  23.698042  28.327578  0.0  1.117350   9.37820  40.287300  77.7539\n",
       "2021  204.0  22.346525  27.827441  0.0  1.597375   7.88475  34.396600  83.0468\n",
       "2022  204.0  20.807375  24.230354  0.0  2.021000   9.05875  30.056225  75.2440\n",
       "2023  204.0  20.052692  22.652119  0.0  2.344575  10.41960  28.089675  70.5852"
      ]
     },
     "execution_count": 28,
     "metadata": {},
     "output_type": "execute_result"
    }
   ],
   "source": [
    "df_merged_bydate = df_merged.groupby('Date')['PSE Value'].describe()\n",
    "df_merged_bydate"
   ]
  },
  {
   "cell_type": "code",
   "execution_count": 29,
   "id": "de184133",
   "metadata": {},
   "outputs": [
    {
     "data": {
      "text/plain": [
       "<Axes: title={'center': 'OECD PSE Values (2014–2023) in Japan and the United States'}, xlabel='Year'>"
      ]
     },
     "execution_count": 29,
     "metadata": {},
     "output_type": "execute_result"
    },
    {
     "data": {
      "image/png": "[encoded data removed]",
      "text/plain": [
       "<Figure size 640x480 with 1 Axes>"
      ]
     },
     "metadata": {},
     "output_type": "display_data"
    }
   ],
   "source": [
    "df_merged.query('Country in [\"Japan\", \"United States\"]').groupby('Year')['PSE Value'].mean().plot(title='OECD PSE Values (2014–2023) in Japan and the United States')"
   ]
  },
  {
   "cell_type": "markdown",
   "id": "05e59a87",
   "metadata": {},
   "source": [
    "### 2.1.3 Pivot command"
   ]
  },
  {
   "cell_type": "code",
   "execution_count": 30,
   "id": "25b6c73e",
   "metadata": {},
   "outputs": [
    {
     "data": {
      "text/html": [
       "<div>\n",
       "<style scoped>\n",
       "    .dataframe tbody tr th:only-of-type {\n",
       "        vertical-align: middle;\n",
       "    }\n",
       "\n",
       "    .dataframe tbody tr th {\n",
       "        vertical-align: top;\n",
       "    }\n",
       "\n",
       "    .dataframe thead th {\n",
       "        text-align: right;\n",
       "    }\n",
       "</style>\n",
       "<table border=\"1\" class=\"dataframe\">\n",
       "  <thead>\n",
       "    <tr style=\"text-align: right;\">\n",
       "      <th></th>\n",
       "      <th>MEASURE_PSE</th>\n",
       "      <th>BPICSH</th>\n",
       "      <th>BP_OPWLSH</th>\n",
       "    </tr>\n",
       "    <tr>\n",
       "      <th>Country</th>\n",
       "      <th>Year</th>\n",
       "      <th></th>\n",
       "      <th></th>\n",
       "    </tr>\n",
       "  </thead>\n",
       "  <tbody>\n",
       "    <tr>\n",
       "      <th rowspan=\"5\" valign=\"top\">Australia</th>\n",
       "      <th>2014-01-01</th>\n",
       "      <td>28.0401</td>\n",
       "      <td>40.8426</td>\n",
       "    </tr>\n",
       "    <tr>\n",
       "      <th>2015-01-01</th>\n",
       "      <td>19.8678</td>\n",
       "      <td>35.7015</td>\n",
       "    </tr>\n",
       "    <tr>\n",
       "      <th>2016-01-01</th>\n",
       "      <td>18.8490</td>\n",
       "      <td>38.9876</td>\n",
       "    </tr>\n",
       "    <tr>\n",
       "      <th>2017-01-01</th>\n",
       "      <td>19.4751</td>\n",
       "      <td>36.5786</td>\n",
       "    </tr>\n",
       "    <tr>\n",
       "      <th>2018-01-01</th>\n",
       "      <td>5.0175</td>\n",
       "      <td>28.8285</td>\n",
       "    </tr>\n",
       "  </tbody>\n",
       "</table>\n",
       "</div>"
      ],
      "text/plain": [
       "MEASURE_PSE            BPICSH  BP_OPWLSH\n",
       "Country   Year                          \n",
       "Australia 2014-01-01  28.0401    40.8426\n",
       "          2015-01-01  19.8678    35.7015\n",
       "          2016-01-01  18.8490    38.9876\n",
       "          2017-01-01  19.4751    36.5786\n",
       "          2018-01-01   5.0175    28.8285"
      ]
     },
     "execution_count": 30,
     "metadata": {},
     "output_type": "execute_result"
    }
   ],
   "source": [
    "df_merged_long = df_merged.pivot_table(\n",
    "    index = ['Country', 'Year'],\n",
    "    columns= ['MEASURE_PSE'],\n",
    "    values = 'PSE Value',\n",
    "    aggfunc = 'mean'\n",
    ")\n",
    "df_merged_long.head(5)"
   ]
  },
  {
   "cell_type": "code",
   "execution_count": 31,
   "id": "5b03b8b0",
   "metadata": {},
   "outputs": [],
   "source": [
    "# df_merged_long = df_merged_long.reset_index()\n",
    "# df_merged_long.head(5)"
   ]
  },
  {
   "cell_type": "markdown",
   "id": "52aa6a19",
   "metadata": {},
   "source": [
    "## 2.2 Customize plot"
   ]
  },
  {
   "cell_type": "code",
   "execution_count": 32,
   "id": "ce0d05b2",
   "metadata": {},
   "outputs": [],
   "source": [
    "df_merged_long_filtered = df_merged_long.query('Country in [\"Japan\", \"United States\", \"South Korea\"]')"
   ]
  },
  {
   "cell_type": "code",
   "execution_count": 33,
   "id": "c1c93207",
   "metadata": {},
   "outputs": [
    {
     "data": {
      "text/plain": [
       "<Figure size 1600x900 with 0 Axes>"
      ]
     },
     "execution_count": 33,
     "metadata": {},
     "output_type": "execute_result"
    },
    {
     "data": {
      "text/plain": [
       "<Figure size 1600x900 with 0 Axes>"
      ]
     },
     "metadata": {},
     "output_type": "display_data"
    }
   ],
   "source": [
    "plt.figure(figsize=(16, 9))"
   ]
  },
  {
   "cell_type": "code",
   "execution_count": 34,
   "id": "ff622950",
   "metadata": {},
   "outputs": [
    {
     "data": {
      "image/png": "[encoded data removed]",
      "text/plain": [
       "<Figure size 640x480 with 1 Axes>"
      ]
     },
     "metadata": {},
     "output_type": "display_data"
    }
   ],
   "source": [
    "sns.lineplot(\n",
    "    data=df_merged_long_filtered,\n",
    "    x='Year',\n",
    "    y='BPICSH',\n",
    "    hue='Country',\n",
    ")\n",
    "\n",
    "plt. ylabel('BPICSH', size = 15)\n",
    "plt.xlabel('Year', size = 15)\n",
    "plt.title('OECD BPICSH Values (2014–2023)', size = 15)\n",
    "plt.xticks(rotation=45, ha='right')\n",
    "plt.yticks(size=14)\n",
    "plt.tick_params(axis='both', labelsize=12)\n",
    "plt.legend(fontsize=8, loc='upper left')\n",
    "plt.grid(True, axis='y', linestyle='--', alpha=0.5)\n",
    "plt.tight_layout()\n",
    "\n",
    "plt.savefig('OECD BPICSH Values (2014–2023).png',   \n",
    "            dpi=120,                 \n",
    "            bbox_inches='tight',     \n",
    "            transparent=False) "
   ]
  }
 ],
 "metadata": {
  "kernelspec": {
   "display_name": "Python 3",
   "language": "python",
   "name": "python3"
  },
  "language_info": {
   "codemirror_mode": {
    "name": "ipython",
    "version": 3
   },
   "file_extension": ".py",
   "mimetype": "text/x-python",
   "name": "python",
   "nbconvert_exporter": "python",
   "pygments_lexer": "ipython3",
   "version": "3.9.6"
  }
 },
 "nbformat": 4,
 "nbformat_minor": 5
}
